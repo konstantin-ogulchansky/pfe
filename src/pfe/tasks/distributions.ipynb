{
 "cells": [
  {
   "cell_type": "markdown",
   "source": [
    "# Distributions\n",
    "\n",
    "In this notebook, we calculate distributions such as the following:\n",
    "* the distribution of the number of papers per author,\n",
    "* the distribution of the number of authors per paper,\n",
    "* the distribution of the number of collaborators per author.\n",
    "\n",
    "We only consider a collaboration network in the domain of computer science\n",
    "based on publications between the years 1990 and 2018."
   ],
   "metadata": {
    "collapsed": false,
    "pycharm": {
     "name": "#%% md\n"
    }
   }
  },
  {
   "cell_type": "code",
   "execution_count": 1,
   "metadata": {
    "collapsed": true,
    "pycharm": {
     "name": "#%%\n"
    }
   },
   "outputs": [],
   "source": [
    "from pfe.parse import publications_in\n",
    "\n",
    "publications = publications_in('COMP', between=(1990, 2018))\n",
    "publications = list(publications)"
   ]
  },
  {
   "cell_type": "markdown",
   "source": [
    "An example of a JSON publication."
   ],
   "metadata": {
    "collapsed": false,
    "pycharm": {
     "name": "#%% md\n"
    }
   }
  },
  {
   "cell_type": "code",
   "execution_count": 2,
   "outputs": [
    {
     "data": {
      "text/plain": "{'id': 'SCOPUS_ID:0025593898',\n 'date': '1990-12-15',\n 'authors': [{'id': '7003786915',\n   'name': 'Elbaz M.',\n   'affiliation_id': '60027814',\n   'affiliation_city': 'Mulhouse',\n   'affiliation_country': 'France'},\n  {'id': '6603564868',\n   'name': 'Spehner J.',\n   'affiliation_id': '60027814',\n   'affiliation_city': 'Mulhouse',\n   'affiliation_country': 'France'}]}"
     },
     "execution_count": 2,
     "metadata": {},
     "output_type": "execute_result"
    }
   ],
   "source": [
    "publications[0]"
   ],
   "metadata": {
    "collapsed": false,
    "pycharm": {
     "name": "#%%\n"
    }
   }
  },
  {
   "cell_type": "markdown",
   "source": [
    "Then, we construct a collaboration graph based on the publications.\n",
    "Nodes of a graph represent authors, and there is an edge between two authors if\n",
    "they collaborated on a paper.\n",
    "\n",
    "The graph is represented as a `networkx.Graph`."
   ],
   "metadata": {
    "collapsed": false
   }
  },
  {
   "cell_type": "code",
   "execution_count": 3,
   "outputs": [],
   "source": [
    "from pfe.parse import parse\n",
    "\n",
    "graph = parse(publications)"
   ],
   "metadata": {
    "collapsed": false,
    "pycharm": {
     "name": "#%%\n"
    }
   }
  },
  {
   "cell_type": "code",
   "execution_count": 4,
   "outputs": [
    {
     "data": {
      "text/plain": "258145"
     },
     "execution_count": 4,
     "metadata": {},
     "output_type": "execute_result"
    }
   ],
   "source": [
    "from pfe.tasks.distributions import \\\n",
    "    number_of_authors, number_of_publications, number_of_collaborations\n",
    "\n",
    "number_of_authors(publications)"
   ],
   "metadata": {
    "collapsed": false,
    "pycharm": {
     "name": "#%%\n"
    }
   }
  },
  {
   "cell_type": "code",
   "execution_count": 5,
   "outputs": [
    {
     "data": {
      "text/plain": "239414"
     },
     "execution_count": 5,
     "metadata": {},
     "output_type": "execute_result"
    }
   ],
   "source": [
    "number_of_publications(publications)"
   ],
   "metadata": {
    "collapsed": false,
    "pycharm": {
     "name": "#%%\n"
    }
   }
  },
  {
   "cell_type": "code",
   "execution_count": 6,
   "outputs": [
    {
     "data": {
      "text/plain": "1591382"
     },
     "execution_count": 6,
     "metadata": {},
     "output_type": "execute_result"
    }
   ],
   "source": [
    "number_of_collaborations(graph, weighted=False)"
   ],
   "metadata": {
    "collapsed": false,
    "pycharm": {
     "name": "#%%\n"
    }
   }
  },
  {
   "cell_type": "code",
   "execution_count": 7,
   "outputs": [
    {
     "data": {
      "text/plain": "2436342"
     },
     "execution_count": 7,
     "metadata": {},
     "output_type": "execute_result"
    }
   ],
   "source": [
    "number_of_collaborations(graph, weighted=True)"
   ],
   "metadata": {
    "collapsed": false,
    "pycharm": {
     "name": "#%%\n"
    }
   }
  },
  {
   "cell_type": "markdown",
   "source": [
    "## Distribution of the Number of Authors per Publication"
   ],
   "metadata": {
    "collapsed": false
   }
  },
  {
   "cell_type": "code",
   "execution_count": 8,
   "outputs": [
    {
     "data": {
      "text/plain": "{1: 20706,\n 2: 48495,\n 3: 67092,\n 4: 48288,\n 5: 24143,\n 6: 11887,\n 7: 6029,\n 8: 3563,\n 9: 2262,\n 10: 1589}"
     },
     "execution_count": 8,
     "metadata": {},
     "output_type": "execute_result"
    }
   ],
   "source": [
    "from pfe.tasks.distributions import authors_per_publication\n",
    "\n",
    "distribution = authors_per_publication(publications)\n",
    "distribution.truncate(max=10).as_dict()"
   ],
   "metadata": {
    "collapsed": false,
    "pycharm": {
     "name": "#%%\n"
    }
   }
  },
  {
   "cell_type": "code",
   "execution_count": 9,
   "outputs": [
    {
     "name": "stderr",
     "output_type": "stream",
     "text": [
      "Failed to find a Ghostscript installation.  Distillation step skipped.\n",
      "D:\\Projects\\pfe\\src\\pfe\\misc\\plot.py:142: UserWarning: Matplotlib is currently using module://ipykernel.pylab.backend_inline, which is a non-GUI backend, so cannot show the figure.\n",
      "  self.fig.show()\n"
     ]
    },
    {
     "data": {
      "text/plain": "<Figure size 432x288 with 1 Axes>",
      "image/png": "[encoded data removed]"
     },
     "metadata": {
      "needs_background": "light"
     },
     "output_type": "display_data"
    }
   ],
   "source": [
    "from pfe.misc.plot import Plot\n",
    "\n",
    "plot = Plot(tex=True)\n",
    "plot.scatter(distribution)\n",
    "\n",
    "plot.x.label('Number of Authors')\n",
    "plot.x.scale('log')\n",
    "plot.x.limit(10**-1, 10**3)\n",
    "\n",
    "plot.y.label('Number of Publications')\n",
    "plot.y.scale('log')\n",
    "plot.y.limit(10**-1, 10**6)\n",
    "\n",
    "plot.save('COMP-app.eps')"
   ],
   "metadata": {
    "collapsed": false,
    "pycharm": {
     "name": "#%%\n"
    }
   }
  },
  {
   "cell_type": "markdown",
   "source": [
    "## Distribution of the Number of Publications per Author"
   ],
   "metadata": {
    "collapsed": false,
    "pycharm": {
     "name": "#%% md\n"
    }
   }
  },
  {
   "cell_type": "code",
   "execution_count": 10,
   "outputs": [
    {
     "data": {
      "text/plain": "{1: 148074,\n 2: 40117,\n 3: 19493,\n 4: 11523,\n 5: 7674,\n 6: 5262,\n 7: 3775,\n 8: 2884,\n 9: 2322,\n 10: 1812}"
     },
     "execution_count": 10,
     "metadata": {},
     "output_type": "execute_result"
    }
   ],
   "source": [
    "from pfe.tasks.distributions import publications_per_author\n",
    "\n",
    "distribution = publications_per_author(publications)\n",
    "distribution.truncate(max=10).as_dict()"
   ],
   "metadata": {
    "collapsed": false,
    "pycharm": {
     "name": "#%%\n"
    }
   }
  },
  {
   "cell_type": "code",
   "execution_count": 11,
   "outputs": [
    {
     "name": "stderr",
     "output_type": "stream",
     "text": [
      "Failed to find a Ghostscript installation.  Distillation step skipped.\n",
      "D:\\Projects\\pfe\\src\\pfe\\misc\\plot.py:142: UserWarning: Matplotlib is currently using module://ipykernel.pylab.backend_inline, which is a non-GUI backend, so cannot show the figure.\n",
      "  self.fig.show()\n"
     ]
    },
    {
     "data": {
      "text/plain": "<Figure size 432x288 with 1 Axes>",
      "image/png": "[encoded data removed]"
     },
     "metadata": {
      "needs_background": "light"
     },
     "output_type": "display_data"
    }
   ],
   "source": [
    "from pfe.misc.plot import Plot\n",
    "\n",
    "plot = Plot(tex=True)\n",
    "plot.scatter(distribution)\n",
    "\n",
    "plot.x.label('Number of Publications')\n",
    "plot.x.scale('log')\n",
    "plot.x.limit(10**-1, 10**4)\n",
    "\n",
    "plot.y.label('Number of Authors')\n",
    "plot.y.scale('log')\n",
    "plot.y.limit(10**-1, 10**6)\n",
    "\n",
    "plot.save('COMP-ppa.eps')"
   ],
   "metadata": {
    "collapsed": false,
    "pycharm": {
     "name": "#%%\n"
    }
   }
  },
  {
   "cell_type": "markdown",
   "source": [
    "## Distribution of the Number of Collaborators per Author\n",
    "\n",
    "This distribution is, in fact, the degree distribution\n",
    "of the constructed collaboration graph."
   ],
   "metadata": {
    "collapsed": false,
    "pycharm": {
     "name": "#%% md\n"
    }
   }
  },
  {
   "cell_type": "code",
   "execution_count": 12,
   "outputs": [
    {
     "data": {
      "text/plain": "Ellipsis"
     },
     "execution_count": 12,
     "metadata": {},
     "output_type": "execute_result"
    }
   ],
   "source": [
    "..."
   ],
   "metadata": {
    "collapsed": false,
    "pycharm": {
     "name": "#%%\n"
    }
   }
  },
  {
   "cell_type": "markdown",
   "source": [
    "## Distribution of the Number of Communities per Publication"
   ],
   "metadata": {
    "collapsed": false,
    "pycharm": {
     "name": "#%% md\n"
    }
   }
  },
  {
   "cell_type": "code",
   "execution_count": 13,
   "outputs": [
    {
     "data": {
      "text/plain": "{1: 194613,\n 2: 37583,\n 3: 6123,\n 4: 843,\n 5: 184,\n 6: 39,\n 7: 17,\n 8: 5,\n 9: 3,\n 10: 2,\n 11: 1,\n 12: 1}"
     },
     "execution_count": 13,
     "metadata": {},
     "output_type": "execute_result"
    }
   ],
   "source": [
    "from pfe.tasks.distributions import communities_per_publication\n",
    "\n",
    "distribution = communities_per_publication(graph, publications)\n",
    "distribution.as_dict()"
   ],
   "metadata": {
    "collapsed": false,
    "pycharm": {
     "name": "#%%\n"
    }
   }
  },
  {
   "cell_type": "code",
   "execution_count": 14,
   "outputs": [
    {
     "name": "stderr",
     "output_type": "stream",
     "text": [
      "Failed to find a Ghostscript installation.  Distillation step skipped.\n",
      "D:\\Projects\\pfe\\src\\pfe\\misc\\plot.py:142: UserWarning: Matplotlib is currently using module://ipykernel.pylab.backend_inline, which is a non-GUI backend, so cannot show the figure.\n",
      "  self.fig.show()\n"
     ]
    },
    {
     "data": {
      "text/plain": "<Figure size 432x288 with 1 Axes>",
      "image/png": "[encoded data removed]"
     },
     "metadata": {
      "needs_background": "light"
     },
     "output_type": "display_data"
    }
   ],
   "source": [
    "plot = Plot(tex=True)\n",
    "plot.scatter(distribution)\n",
    "\n",
    "plot.x.label('Number of Communities')\n",
    "\n",
    "plot.y.label('Number of Publications')\n",
    "plot.y.scale('log')\n",
    "\n",
    "plot.save('COMP-cpp.eps')"
   ],
   "metadata": {
    "collapsed": false,
    "pycharm": {
     "name": "#%%\n"
    }
   }
  }
 ],
 "metadata": {
  "kernelspec": {
   "display_name": "Python 3",
   "language": "python",
   "name": "python3"
  },
  "language_info": {
   "codemirror_mode": {
    "name": "ipython",
    "version": 2
   },
   "file_extension": ".py",
   "mimetype": "text/x-python",
   "name": "python",
   "nbconvert_exporter": "python",
   "pygments_lexer": "ipython2",
   "version": "2.7.6"
  }
 },
 "nbformat": 4,
 "nbformat_minor": 0
}